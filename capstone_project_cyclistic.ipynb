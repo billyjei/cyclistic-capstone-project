{
 "cells": [
  {
   "cell_type": "markdown",
   "metadata": {},
   "source": [
    "<div align=\"center\"><h1> Cyclistic Case Study </h1></div> \n",
    "<div align=\"center\"><h5> By Muhammad Billy Jehan </h5></div> \n",
    "<div align=\"center\"><h5> July 1st 2023 </h5></div>\n",
    "\n",
    "## Background\n",
    "In 2016, Cyclistic launched a bike-share program in Chicago, comprising 5,824 bikes and 692 stations. The program featured diverse pricing options, such as single-ride passes, full-day passes, and annual memberships. Cyclistic's finance analysts determined that annual members were more profitable than casual riders. To foster future growth, Moreno, Cyclistic's marketing manager, aims to convert casual riders into annual members. The challenge lies in understanding the distinctions between these rider groups, the motivations behind casual riders' membership purchases, and the influence of digital media on marketing strategies. Moreno and her team are keen to analyze historical bike trip data to uncover trends.\n",
    "\n",
    "## Case Study\n",
    "The Cyclistic Bike-Share Analysis Case Study explores the data-driven challenges faced by Cyclistic, a bike-share company located in Chicago. In this case study, the primary objective is to maximize annual memberships by understanding how annual members and casual riders utilize Cyclistic bikes differently. The analysis aims to provide actionable insights supported by compelling data visualizations to drive a new marketing strategy. Stakeholders, including the marketing team and the Cyclistic executive team, rely on these insights to make informed decisions."
   ]
  },
  {
   "cell_type": "markdown",
   "metadata": {},
   "source": [
    "## Key Questions: Bike Usage Annual Members vs. Casual Riders\n",
    "\n",
    "In my quest to better understand how Cyclistic's annual members and casual riders engage with the bike-sharing service, I delve into an in-depth analysis of their bike usage patterns. This exploration is fueled by a compelling motivation: to uncover the factors that might drive casual riders towards investing in Cyclistic annual memberships.\n",
    "\n",
    "**Exploring User Motivation**\n",
    "\n",
    "My journey begins with an exploration of user motivation. I meticulously examine the data to distinguish the distinctive patterns and preferences exhibited by annual members and casual riders in their interactions with Cyclistic bikes. Also, a comparison between annual members and casual riders. By carefully dissecting ride lengths, preferred riding times, and seasonal trends, I aim to highlight the differences in how these two user groups utilize Cyclistic's bike-sharing service.\n",
    "\n",
    "**Understanding the 'Why'**\n",
    "\n",
    "At the heart of my analysis lies the question of motivation. I am driven to understand why casual riders might opt for Cyclistic annual memberships. By unraveling their underlying motivations, whether they revolve around convenience, cost-effectiveness, or a combination of factors, I aim to shed light on what drives casual riders to become committed annual members."
   ]
  },
  {
   "cell_type": "markdown",
   "metadata": {},
   "source": [
    "## Stakeholders\n",
    "|Stakeholders|Expectations|Goals|\n",
    "|:-----------|:-----------|:---------------------|\n",
    "|Cyclistic Marketing Team|Obtain insights on rider usage|Design a marketing strategy to convert casual riders into annual members|\n",
    "|Lily Moreno, Director of Marketing|Drive marketing initiatives|Develop campaigns and promotions to promote the bike-share program|\n",
    "|Cyclistic Executive Team|Evaluate and approve strategy|Decide whether to approve the recommended marketing program|\n",
    "\n",
    "## Business Background\n",
    "\n",
    "* In 2016, Cyclistic launched a successful bike-share program in Chicago.\n",
    "* The program features over 5,800 bicycles and 600 docking stations.\n",
    "* Cyclistic offers various bike options, including reclining bikes, hand tricycles, and cargo bikes, making it inclusive for people with disabilities.\n",
    "* Cyclistic users primarily ride for leisure, with approximately 30% using bikes for daily commuting.\n",
    "\n",
    "## Data Quality Assessment (Based on ROCCC)\n",
    "Data from the previous 12 months, spanning from June 2022 to May 2023, is now accessible. Each dataset is provided in CSV format and contains a comprehensive record of every ride taken by Cyclistic customers. The data has been made accessible to the public under a license agreement with Motivate International Inc. and the city of Chicago. To safeguard user privacy, all personal information has been removed from the datasets.\n",
    "\n",
    "* R (Reliable)       : The data is generally reliable but contains some duplicate entries.\n",
    "* O (Original)       : The data is accurate, reflecting the original source.\n",
    "* C (Comprehensive)  : The data is comprehensive, with multiple data sources for analysis.\n",
    "* C (Current)        : The data is up-to-date and suitable for the analysis.\n",
    "* C (Cited Sources)  : The data sources used in the analysis are appropriately cited, ensuring transparency and credibility.\n",
    "\n",
    "## Tools\n",
    "### MySQL\n",
    "* MySQL efficiently stores and retrieves large datasets, making it ideal for handling Cyclistic's historical bike trip data and allow for precise data extraction and filtering.\n",
    "### Visual Studio Code (VS Code)\n",
    "* VS Code combines code editing, debugging, and Git integration, streamlining my workflow.\n",
    "### Tableau\n",
    "* Creating interactive and compelling data visualizations. Also, seamlessly integrates with MySQL and other data sources for up-to-date visualizations."
   ]
  },
  {
   "cell_type": "markdown",
   "metadata": {},
   "source": [
    "## SQL Query Analysis: Cleaning the Data"
   ]
  },
  {
   "cell_type": "markdown",
   "metadata": {},
   "source": [
    "### Establish a database and set up a table for CSV data upload"
   ]
  },
  {
   "cell_type": "code",
   "execution_count": null,
   "metadata": {
    "vscode": {
     "languageId": "sql"
    }
   },
   "outputs": [],
   "source": [
    "CREATE DATABASE IF NOT EXISTS cyclistic;\n",
    "\n",
    "USE cyclistic;\n",
    "\n",
    "CREATE TABLE tripdata (\n",
    "  ride_id VARCHAR(255),\n",
    "  rideable_type VARCHAR(255),\n",
    "  started_at DATETIME,\n",
    "  ended_at DATETIME,\n",
    "  start_station_name VARCHAR(255),\n",
    "  start_station_id VARCHAR(255),\n",
    "  end_station_name VARCHAR(255),\n",
    "  end_station_id VARCHAR(255),\n",
    "  start_lat LONGTEXT,\n",
    "  start_lng LONGTEXT,\n",
    "  end_lat LONGTEXT,\n",
    "  end_lng LONGTEXT,\n",
    "  member_casual VARCHAR(255)\n",
    ");"
   ]
  },
  {
   "cell_type": "markdown",
   "metadata": {},
   "source": [
    "#### Note: Bypassing MySQL Error 1290: secure_file_priv\n",
    "MySQL Error 1290 typically occurs when you try to use the `LOAD DATA INFILE` statement to load data from a file, and MySQL's `secure_file_priv` system variable is set to a non-empty value. This variable restricts the locations from which you can load files using `LOAD DATA INFILE` for security reasons. The goal is to change the value from **NULL** to *empty*.\n",
    "\n",
    "**NULL** value means the data export or import is disabled, \n",
    "*Empty* value means data export or import is enabled\n",
    "\n",
    "To bypass this error and allow file loading, you can follow these steps:\n",
    "\n",
    "1. First, you need to check the current value of the `secure_file_priv` system variable by running the following SQL query in MySQL:\n",
    "   ```sql\n",
    "   SHOW VARIABLES LIKE 'secure_file_priv';\n",
    "|Variable Name|Value|\n",
    "|:-----------|:-----------|\n",
    "|secure_file_priv|Null|\n",
    "\n",
    "2. Locate the my.ini File. The my.ini configuration file for MySQL is typically located in the MySQL installation directory. Common locations include C:\\ProgramData\\MySQL\\MySQL Server X.X on Windows (I am a Windows user).\n",
    "\n",
    "3. Use a text editor like Notepad to open the my.ini file with administrator privileges. Inside the my.ini file, look for the [mysqld] section. This is where you can configure server options. If the secure-file-priv option already exists in the [mysqld] section, modify it to set an empty string, then save it: \n",
    "secure-file-priv=\"\"\n",
    "\n",
    "4. Restart MySQL Server through the Windows Services Manager (open the Services Manager, find the MySQL80 service, right-click it, and select \"Restart.\"), then check again the current value of the `secure_file_priv`.\n",
    "   ```sql\n",
    "   SHOW VARIABLES LIKE 'secure_file_priv';\n",
    "|Variable Name|Value|\n",
    "|:-----------|:-----------|\n",
    "|secure_file_priv|    |"
   ]
  },
  {
   "cell_type": "markdown",
   "metadata": {},
   "source": [
    "### Upload the csv file to designated columns\n"
   ]
  },
  {
   "cell_type": "code",
   "execution_count": null,
   "metadata": {
    "vscode": {
     "languageId": "sql"
    }
   },
   "outputs": [],
   "source": [
    "-- SQL Query to load data from a CSV file for 12 months and also combine all of them (202206 until 202305)\n",
    "LOAD DATA INFILE 'X:/ProgramData/MySQL/MySQL Server 8.0/Uploads/202206-divvy-tripdata.csv'\n",
    "INTO TABLE tripdata\n",
    "FIELDS TERMINATED BY ',' \n",
    "ENCLOSED BY '\"'\n",
    "LINES TERMINATED BY '\\r\\n'\n",
    "IGNORE 1 ROWS;\n",
    "\n",
    "-- Then see the table to check all of them\n",
    "SELECT *\n",
    "FROM tripdata"
   ]
  },
  {
   "cell_type": "markdown",
   "metadata": {},
   "source": [
    "### Check the unique values per column"
   ]
  },
  {
   "cell_type": "code",
   "execution_count": null,
   "metadata": {
    "vscode": {
     "languageId": "sql"
    }
   },
   "outputs": [],
   "source": [
    "SELECT\n",
    "    COUNT(DISTINCT ride_id) AS unique_ride_id,\n",
    "    COUNT(DISTINCT rideable_type) AS unique_rideable_type,\n",
    "    COUNT(DISTINCT started_at) AS unique_started_at,\n",
    "    COUNT(DISTINCT ended_at) AS unique_ended_at,\n",
    "    COUNT(DISTINCT start_station_name) AS unique_start_station_name,\n",
    "    COUNT(DISTINCT start_station_id) AS unique_start_station_id,\n",
    "    COUNT(DISTINCT end_station_name) AS unique_end_station_name,\n",
    "    COUNT(DISTINCT end_station_id) AS unique_end_station_id,\n",
    "    COUNT(DISTINCT start_lat) AS unique_start_lat,\n",
    "    COUNT(DISTINCT start_lng) AS unique_start_lng,\n",
    "    COUNT(DISTINCT end_lat) AS unique_end_lat,\n",
    "    COUNT(DISTINCT end_lng) AS unique_end_lng,\n",
    "    COUNT(DISTINCT member_casual) AS unique_member_casual\n",
    "FROM tripdata;"
   ]
  },
  {
   "cell_type": "markdown",
   "metadata": {},
   "source": [
    "| Category                   | Unique Values |\n",
    "|----------------------------|--------------|\n",
    "| Ride ID                    | 5,829,030    |\n",
    "| Rideable Type              | 3            |\n",
    "| Started At (timestamps)   | 4,897,045    |\n",
    "| Ended At (timestamps)     | 4,910,590    |\n",
    "| Start Station Name         | 1,896        |\n",
    "| Start Station ID           | 1,488        |\n",
    "| End Station Name           | 1,884        |\n",
    "| End Station ID             | 1,469        |\n",
    "| Start Latitude             | 750,943      |\n",
    "| Start Longitude            | 708,220      |\n",
    "| End Latitude               | 5,360        |\n",
    "| End Longitude              | 5,365        |\n",
    "| Member Type (Member/Casual)| 2            |\n"
   ]
  },
  {
   "cell_type": "markdown",
   "metadata": {},
   "source": [
    "There could be a specific business reason or process that causes more unique values in the start_lat and start_lng columns compared to end_lat and end_lng. For instance, if rides are primarily initiated from various locations and typically end at common drop-off points, this could explain the difference."
   ]
  },
  {
   "cell_type": "markdown",
   "metadata": {},
   "source": [
    "### Checking for Duplicate 'ride_id' values\n",
    "I'm investigating the uniqueness of the 'ride_id' field to determine whether it can be considered as the primary key for the dataset. A primary key should have all unique values, and detecting duplicates is crucial to maintaining data consistency."
   ]
  },
  {
   "cell_type": "code",
   "execution_count": null,
   "metadata": {
    "vscode": {
     "languageId": "sql"
    }
   },
   "outputs": [],
   "source": [
    "SELECT ride_id, COUNT(*) AS count\n",
    "FROM tripdata\n",
    "GROUP BY ride_id\n",
    "HAVING count > 1;"
   ]
  },
  {
   "cell_type": "markdown",
   "metadata": {},
   "source": [
    "| ride_id                   | count |\n",
    "|----------------------------|--------------|\n",
    "|                     |     |\n",
    "\n",
    "There are no duplicate values in the 'ride_id' column"
   ]
  },
  {
   "cell_type": "markdown",
   "metadata": {},
   "source": [
    "### Remove rows with missing values in any column"
   ]
  },
  {
   "cell_type": "code",
   "execution_count": null,
   "metadata": {
    "vscode": {
     "languageId": "sql"
    }
   },
   "outputs": [],
   "source": [
    "DELETE FROM tripdata\n",
    "WHERE \n",
    "    NULLIF(ride_id, '') IS NULL\n",
    "    OR NULLIF(rideable_type, '') IS NULL\n",
    "    OR NULLIF(start_station_name, '') IS NULL\n",
    "    OR NULLIF(start_station_id, '') IS NULL\n",
    "    OR NULLIF(end_station_name, '') IS NULL\n",
    "    OR NULLIF(end_station_id, '') IS NULL\n",
    "    OR NULLIF(start_lat, '') IS NULL\n",
    "    OR NULLIF(start_lng, '') IS NULL\n",
    "    OR NULLIF(end_lat, '') IS NULL\n",
    "    OR NULLIF(end_lng, '') IS NULL\n",
    "    OR NULLIF(member_casual, '') IS NULL;\n",
    "\n",
    "    1334349 row(s) affected"
   ]
  },
  {
   "cell_type": "markdown",
   "metadata": {},
   "source": [
    "### Remove any rows with a negative ride duration"
   ]
  },
  {
   "cell_type": "code",
   "execution_count": null,
   "metadata": {
    "vscode": {
     "languageId": "sql"
    }
   },
   "outputs": [],
   "source": [
    "DELETE FROM tripdata\n",
    "WHERE ended_at < started_at;\n",
    "\n",
    "75 row(s) affected"
   ]
  },
  {
   "cell_type": "markdown",
   "metadata": {},
   "source": [
    "## SQL Query Analysis: Data Transformation\n",
    "\n",
    "In our dataset, I have enriched the data with several additional columns to provide more insights and facilitate analysis. First, I create and insert a new column:"
   ]
  },
  {
   "cell_type": "code",
   "execution_count": null,
   "metadata": {
    "vscode": {
     "languageId": "sql"
    }
   },
   "outputs": [],
   "source": [
    "ALTER TABLE tripdata\n",
    "ADD COLUMN ride_length TIME,\n",
    "ADD COLUMN day_of_week INT,\n",
    "ADD COLUMN season VARCHAR(255),\n",
    "ADD COLUMN moment VARCHAR(255),\n",
    "ADD COLUMN weekday VARCHAR(255);"
   ]
  },
  {
   "cell_type": "markdown",
   "metadata": {},
   "source": [
    "### Ride Length\n",
    "The `ride_length` column represents the duration of each ride in the format HH:MM:SS, calculated by taking the difference between the `started_at` and `ended_at` timestamps."
   ]
  },
  {
   "cell_type": "code",
   "execution_count": null,
   "metadata": {
    "vscode": {
     "languageId": "sql"
    }
   },
   "outputs": [],
   "source": [
    "UPDATE tripdata\n",
    "SET ride_length = TIMEDIFF(ended_at, started_at);"
   ]
  },
  {
   "cell_type": "markdown",
   "metadata": {},
   "source": [
    "### Day of Week\n",
    "The `day_of_week` column categorizes each ride based on the day of the week when it started. The mapping is as follows:\n",
    "- 1: Sunday\n",
    "- 2: Monday\n",
    "- 3: Tuesday\n",
    "- 4: Wednesday\n",
    "- 5: Thursday\n",
    "- 6: Friday\n",
    "- 7: Saturday"
   ]
  },
  {
   "cell_type": "code",
   "execution_count": null,
   "metadata": {
    "vscode": {
     "languageId": "sql"
    }
   },
   "outputs": [],
   "source": [
    "UPDATE tripdata\n",
    "SET day_of_week = DAYOFWEEK(started_at);"
   ]
  },
  {
   "cell_type": "markdown",
   "metadata": {},
   "source": [
    "\n",
    "### Season\n",
    "The `season` column assigns a season to each ride based on the month when it started. The mapping is as follows:\n",
    "- Winter: December, January, February\n",
    "- Spring: March, April, May\n",
    "- Summer: June, July, August\n",
    "- Autumn: September, October, November"
   ]
  },
  {
   "cell_type": "code",
   "execution_count": null,
   "metadata": {
    "vscode": {
     "languageId": "sql"
    }
   },
   "outputs": [],
   "source": [
    "UPDATE tripdata\n",
    "SET season =\n",
    "    CASE\n",
    "        WHEN MONTH(started_at) IN (12, 1, 2) THEN 'winter'\n",
    "        WHEN MONTH(started_at) IN (3, 4, 5) THEN 'spring'\n",
    "        WHEN MONTH(started_at) IN (6, 7, 8) THEN 'summer'\n",
    "        WHEN MONTH(started_at) IN (9, 10, 11) THEN 'autumn'\n",
    "        ELSE NULL\n",
    "    END;"
   ]
  },
  {
   "cell_type": "markdown",
   "metadata": {},
   "source": [
    "### Moment\n",
    "The `moment` column categorizes each ride based on the time of day when it started. The mapping is as follows:\n",
    "- Late Night: 9 PM - 6 AM\n",
    "- Morning: 6 AM - 12 PM\n",
    "- Afternoon: 12 PM - 6 PM\n",
    "- Evening: 6 PM - 9 PM"
   ]
  },
  {
   "cell_type": "code",
   "execution_count": null,
   "metadata": {
    "vscode": {
     "languageId": "sql"
    }
   },
   "outputs": [],
   "source": [
    "UPDATE tripdata\n",
    "SET moment =\n",
    "    CASE\n",
    "        WHEN HOUR(started_at) BETWEEN 6 AND 12 THEN 'Morning (6am - 12pm)'\n",
    "        WHEN HOUR(started_at) BETWEEN 12 AND 18 THEN 'Afternoon (12pm - 6pm)'\n",
    "        WHEN HOUR(started_at) BETWEEN 18 AND 21 THEN 'Evening (6pm - 9pm)'\n",
    "        ELSE 'Late Night (9pm - 6am)'\n",
    "    END;"
   ]
  },
  {
   "cell_type": "markdown",
   "metadata": {},
   "source": [
    "### Weekday\n",
    "The `weekday` column identifies whether a ride occurred on a weekday or weekend. The mapping is as follows:\n",
    "- Weekday: Monday to Thursday (2 to 5)\n",
    "- Weekend: Friday, Saturday, and Sunday (6, 7, and 1)\n",
    "\n",
    "These additional columns enhance our dataset and provide valuable information for analyzing ride patterns and trends."
   ]
  },
  {
   "cell_type": "code",
   "execution_count": null,
   "metadata": {
    "vscode": {
     "languageId": "sql"
    }
   },
   "outputs": [],
   "source": [
    "UPDATE tripdata\n",
    "SET weekday =\n",
    "    CASE\n",
    "        WHEN day_of_week IN (2, 3, 4, 5) THEN 'weekday'\n",
    "        ELSE 'weekend'\n",
    "    END;"
   ]
  },
  {
   "cell_type": "markdown",
   "metadata": {},
   "source": [
    "**This is some sample of the tripdata table**\n",
    "\n",
    "<span style=\"font-size: xx-small;\">\n",
    "\n",
    "| ride_id       | rideable_type  | started_at          | ended_at            | start_station_name                   | start_station_id | end_station_name                     | end_station_id | start_lat    | start_lng    | end_lat      | end_lng      | member_casual | ride_length | day_of_week | season | moment                     | weekday |\n",
    "|---------------|----------------|---------------------|---------------------|--------------------------------------|-----------------|--------------------------------------|-----------------|--------------|--------------|--------------|--------------|---------------|-------------|-------------|--------|----------------------------|---------|\n",
    "| B12AD6565494C368 | classic_bike   | 2022-06-09 22:28:32 | 2022-06-09 22:52:17 | California Ave & Milwaukee Ave       | 13084           | California Ave & Milwaukee Ave       | 13084           | 41.922    | -87.697   | 41.922    | -87.697   | casual        | 00:23:45    | 5           | summer | Late Night (9pm - 6am)    | weekday |\n",
    "| BAD4CB075003A605 | electric_bike  | 2022-06-19 17:08:23 | 2022-06-19 17:08:25 | California Ave & Milwaukee Ave       | 13084           | California Ave & Milwaukee Ave       | 13084           | 41.922 | -87.697 | 41.922    | -87.697   | casual        | 00:00:02    | 1           | summer | Afternoon (12pm - 6pm)       | weekend |\n",
    "| 76DAD9FC95774B53 | electric_bike  | 2022-06-26 23:59:44 | 2022-06-27 00:25:26 | Burnham Greenway & 105th St          | 20222           | Burnham Greenway & 105th St          | 20222           | 41.704  | -87.528 | 41.704 | -87.528  | casual        | 00:25:42    | 1           | summer | Late Night (9pm - 6am)    | weekend |\n",
    "| 47DE68ACCA138C13 | electric_bike  | 2022-06-27 11:40:53 | 2022-06-27 11:50:16 | Wood St & Chicago Ave                | 637             | California Ave & Division St        | 13256           | 41.895 | -87.672   | 41.903    | -87.697   | casual        | 00:09:23    | 2           | summer | Morning (6am - 12pm)       | weekday |\n",
    "| 5D899636D3334ED5 | classic_bike   | 2022-06-27 16:01:13 | 2022-06-27 16:35:56 | California Ave & Division St        | 13256           | California Ave & Division St        | 13256           | 41.903    | -87.697   | 41.903    | -87.697   | casual        | 00:34:43    | 2           | summer | Afternoon (12pm - 6pm)       | weekday |\n",
    "\n",
    "</span>"
   ]
  },
  {
   "cell_type": "markdown",
   "metadata": {},
   "source": [
    "## Aggregate table\n",
    "Now create a table to apply the aggregates and compare between members and casual to analyze it.\n",
    "\n",
    "### Average Distant Length\n",
    "Calculate the average distance traveled monthly by casual and member riders. This table provides insights into the average distances covered by both rider types over different months."
   ]
  },
  {
   "cell_type": "code",
   "execution_count": null,
   "metadata": {
    "vscode": {
     "languageId": "sql"
    }
   },
   "outputs": [],
   "source": [
    "CREATE TABLE average_distance_monthly AS\n",
    "SELECT\n",
    "    DATE_FORMAT(started_at, '%Y-%m') AS month,\n",
    "    member_casual,\n",
    "    CAST(AVG(ride_length) AS DOUBLE) AS avg_ride_length,\n",
    "    CAST(AVG(SQRT(POW(end_lat - start_lat, 2) + POW(end_lng - start_lng, 2))) AS DOUBLE) AS avg_distance\n",
    "FROM tripdata\n",
    "GROUP BY month, member_casual;"
   ]
  },
  {
   "cell_type": "markdown",
   "metadata": {},
   "source": [
    "|   month   | member_casual | avg_ride_length | avg_distance |\n",
    "|:---------:|:-------------:|:---------------:|:-----------:|\n",
    "| 2022-06   | casual        | 2966.736        | 0.022       |\n",
    "| 2022-06   | member        | 1400.473        | 0.022       |\n",
    "| 2022-07   | casual        | 2985.893        | 0.022       |\n",
    "| 2022-07   | member        | 1375.312        | 0.022       |\n",
    "| 2022-08   | casual        | 2739.762        | 0.021       |\n",
    "| 2022-08   | member        | 1335.758        | 0.021       |\n",
    "| 2022-09   | casual        | 2545.228        | 0.021       |\n",
    "| 2022-09   | member        | 1291.890        | 0.021       |\n",
    "| 2022-10   | casual        | 2381.063        | 0.020       |\n",
    "| 2022-10   | member        | 1197.792        | 0.019       |\n",
    "| 2022-11   | casual        | 1960.129        | 0.021       |\n",
    "| 2022-11   | member        | 1103.537        | 0.022       |\n",
    "| 2022-12   | casual        | 1685.152        | 0.017       |\n",
    "| 2022-12   | member        | 1038.166        | 0.018       |\n",
    "| 2023-01   | casual        | 1715.326        | 0.016       |\n",
    "| 2023-01   | member        | 1022.454        | 0.017       |\n",
    "| 2023-02   | casual        | 2068.942        | 0.017       |\n",
    "| 2023-02   | member        | 1069.263        | 0.018       |\n",
    "| 2023-03   | casual        | 1929.150        | 0.018       |\n",
    "| 2023-03   | member        | 1034.586        | 0.018       |\n",
    "| 2023-04   | casual        | 2695.535        | 0.020       |\n",
    "| 2023-04   | member        | 1182.380        | 0.020       |\n",
    "| 2023-05   | casual        | 2927.358        | 0.021       |\n",
    "| 2023-05   | member        | 1305.712        | 0.021       |\n",
    "\n",
    "From June 2022 to May 2023, casual riders consistently took longer rides than members, while both groups covered similar distances on average, indicating distinct riding preferences between casual and member users"
   ]
  },
  {
   "cell_type": "markdown",
   "metadata": {},
   "source": [
    "### Day of Week\n",
    "Compare the number of rides taken by casual and member riders for each day of the week. This table helps in understanding ride patterns based on the day of the week."
   ]
  },
  {
   "cell_type": "code",
   "execution_count": null,
   "metadata": {
    "vscode": {
     "languageId": "sql"
    }
   },
   "outputs": [],
   "source": [
    "CREATE TABLE day_of_week_comparison AS\n",
    "SELECT\n",
    "    day_of_week,\n",
    "    member_casual,\n",
    "    COUNT(*) AS ride_count\n",
    "FROM tripdata\n",
    "GROUP BY day_of_week, member_casual;"
   ]
  },
  {
   "cell_type": "markdown",
   "metadata": {},
   "source": [
    "| day_of_week | member_casual | ride_count |\n",
    "|-------------|---------------|------------|\n",
    "| 5           | casual        | 233,763    |\n",
    "| 1           | casual        | 289,551    |\n",
    "| 2           | casual        | 194,972    |\n",
    "| 7           | casual        | 350,968    |\n",
    "| 4           | casual        | 218,113    |\n",
    "| 6           | casual        | 258,174    |\n",
    "| 3           | casual        | 202,326    |\n",
    "| 1           | member        | 303,828    |\n",
    "| 3           | member        | 438,803    |\n",
    "| 7           | member        | 343,717    |\n",
    "| 4           | member        | 456,844    |\n",
    "| 6           | member        | 387,063    |\n",
    "| 5           | member        | 442,114    |\n",
    "| 2           | member        | 374,370    |\n",
    "\n",
    "The table shows the ride counts for both casual and member users across different days of the week. Members tend to have higher ride counts on average compared to casual users, with the highest member rides occurring on Thursdays (day 4) and Fridays (day 6). Casual users, on the other hand, have their highest ride counts on Mondays (day 1) and Saturdays (day 7)."
   ]
  },
  {
   "cell_type": "markdown",
   "metadata": {},
   "source": [
    "### Different Season\n",
    "Compare the number of rides taken by casual and member riders in different seasons: winter, spring, summer, and autumn. This table provides insights into seasonal ride patterns."
   ]
  },
  {
   "cell_type": "code",
   "execution_count": null,
   "metadata": {
    "vscode": {
     "languageId": "sql"
    }
   },
   "outputs": [],
   "source": [
    "CREATE TABLE season_comparison AS\n",
    "SELECT\n",
    "    season,\n",
    "    member_casual,\n",
    "    COUNT(*) AS ride_count\n",
    "FROM tripdata\n",
    "GROUP BY season, member_casual;"
   ]
  },
  {
   "cell_type": "markdown",
   "metadata": {},
   "source": [
    "| season  | member_casual | ride_count |\n",
    "|---------|---------------|------------|\n",
    "| autumn  | casual        | 445,773    |\n",
    "| autumn  | member        | 759,396    |\n",
    "| spring  | casual        | 334,366    |\n",
    "| spring  | member        | 653,497    |\n",
    "| summer  | casual        | 873,826    |\n",
    "| summer  | member        | 994,501    |\n",
    "| winter  | casual        | 93,902     |\n",
    "| winter  | member        | 339,345    |\n",
    "\n",
    "The table displays ride counts categorized by seasons (autumn, spring, summer, winter) and user types (casual, member). The data indicates that during the summer season, both casual and member users have the highest ride counts, with members having a slightly higher count. Winter has the lowest ride counts for both user types, with casual users significantly lower than members."
   ]
  },
  {
   "cell_type": "markdown",
   "metadata": {},
   "source": [
    "### Moments of The Day\n",
    "Compare the number of rides taken by casual and member riders during different moments of the day: Morning (6am - 12pm), Afternoon (12pm - 6pm), Evening (6pm - 9pm), and Late Night (9pm - 6am). This table helps understand ride patterns during different times of the day."
   ]
  },
  {
   "cell_type": "code",
   "execution_count": null,
   "metadata": {
    "vscode": {
     "languageId": "sql"
    }
   },
   "outputs": [],
   "source": [
    "CREATE TABLE moment_comparison AS\n",
    "SELECT\n",
    "    moment,\n",
    "    member_casual,\n",
    "    COUNT(*) AS ride_count\n",
    "FROM tripdata\n",
    "GROUP BY moment, member_casual;"
   ]
  },
  {
   "cell_type": "markdown",
   "metadata": {},
   "source": [
    "| moment                  | member_casual | ride_count |\n",
    "|-------------------------|---------------|------------|\n",
    "| Late Night (9pm - 6am)  | casual        | 191,385    |\n",
    "| Afternoon (12pm - 6pm)  | casual        | 843,212    |\n",
    "| Morning (6am - 12pm)    | casual        | 450,599    |\n",
    "| Evening (6pm - 9pm)     | casual        | 262,671    |\n",
    "| Evening (6pm - 9pm)     | member        | 369,789    |\n",
    "| Afternoon (12pm - 6pm)  | member        | 1,260,082  |\n",
    "| Morning (6am - 12pm)    | member        | 922,648    |\n",
    "| Late Night (9pm - 6am)  | member        | 194,220    |\n",
    "\n",
    "The table presents ride counts categorized by different moments of the day (Late Night, Afternoon, Morning, Evening) and user types (casual, member). It's evident that the Afternoon moment sees the highest ride counts for both casual and member users, while Late Night has the lowest ride counts. Additionally, members tend to have higher ride counts across all moments compared to casual users."
   ]
  },
  {
   "cell_type": "markdown",
   "metadata": {},
   "source": [
    "###  Riders on Weekdays and Weekends\n",
    "Compare the number of rides taken by casual and member riders on weekdays and weekends. This table helps understand ride patterns based on weekdays and weekends."
   ]
  },
  {
   "cell_type": "code",
   "execution_count": null,
   "metadata": {
    "vscode": {
     "languageId": "sql"
    }
   },
   "outputs": [],
   "source": [
    "CREATE TABLE weekday_comparison AS\n",
    "SELECT\n",
    "    weekday,\n",
    "    member_casual,\n",
    "    COUNT(*) AS ride_count\n",
    "FROM tripdata\n",
    "GROUP BY weekday, member_casual;"
   ]
  },
  {
   "cell_type": "markdown",
   "metadata": {},
   "source": [
    "| weekday | member_casual | ride_count |\n",
    "|---------|---------------|------------|\n",
    "| weekday | casual        | 849,174    |\n",
    "| weekend | casual        | 898,693    |\n",
    "| weekend | member        | 1,034,608  |\n",
    "| weekday | member        | 1,712,131  |\n",
    "\n",
    "The table illustrates ride counts on weekdays and weekends, categorized by user types (casual and member). Weekdays collectively have higher ride counts compared to weekends, with members contributing significantly more rides than casual users on both weekdays and weekends."
   ]
  },
  {
   "cell_type": "markdown",
   "metadata": {},
   "source": [
    "### Visuals Presentation\n",
    "\n",
    "I've prepared a set of interactive data visualizations using Tableau, which you can explore by following this [link](https://public.tableau.com/app/profile/billy.jehan/viz/CyclisticsDataTrip/Dashboard) on Tableau Public."
   ]
  },
  {
   "cell_type": "markdown",
   "metadata": {},
   "source": [
    "## Identifying Trends and Relationships"
   ]
  },
  {
   "cell_type": "markdown",
   "metadata": {},
   "source": [
    "### Casual Users:\n",
    "\n",
    "* Casual users tend to have longer average ride lengths compared to members.\n",
    "* Casual users show a consistent increase in ride count from spring to summer, peaking in summer, and then decreasing in autumn and winter.\n",
    "* Most casual users prefer riding during the afternoon (12pm - 6pm) and the evening (6pm - 9pm).\n",
    "* Casual users ride more on weekends than weekdays.\n",
    "\n",
    "### Members:\n",
    "* Members have shorter average ride lengths compared to casual users.\n",
    "* Members also exhibit a similar trend to casual users with ride counts increasing from spring to summer, peaking in summer, and then decreasing in autumn and winter.\n",
    "* Similar to casual users, members prefer riding during the afternoon (12pm - 6pm) and the evening (6pm - 9pm).\n",
    "* Members also ride more on weekends than weekdays.\n",
    "\n",
    "Both casual and member users follow a similar seasonal trend, with higher ride counts in summer and lower counts in winter.\n",
    "Afternoon and evening are the preferred riding times for both user types.\n",
    "Both user types ride more on weekends compared to weekdays."
   ]
  },
  {
   "cell_type": "markdown",
   "metadata": {},
   "source": [
    "## Summary: Converting Casual Riders    \n",
    "\n",
    "1. **Higher Weekly Ride Count Among Casual Riders Indicates Potential for Annual Membership Conversion:**\n",
    "   - One important aspect to consider is the difference in weekly ride counts between casual riders and annual members. While both user types exhibit similar trends in terms of seasonality and preferred riding times, casual riders, on average, might use the service more frequently in a given week. This observation could be a potential opportunity for Cyclistic to encourage casual riders to convert to annual memberships by offering attractive discounts or promotions for frequent users. This can be a valuable strategy to enhance user retention and long-term revenue.\n",
    "\n",
    "2. **Distinct Usage Patterns (Commuting or Leisure Activities) Between Annual Members and Casual Riders:**\n",
    "   - It's worth investigating the distinct usage patterns between annual members and casual riders. While both groups follow similar trends, the motivations behind their rides could be different. Annual members might primarily use the service for their daily commuting needs, focusing on shorter and more routine trips. In contrast, casual riders might be using it for leisure activities, which could explain their longer ride lengths and potentially more sporadic ride patterns. Understanding these distinctions can help Cyclistic tailor their services and marketing strategies to better cater to the specific needs and preferences of each group.\n",
    "\n",
    "3. **Further Analysis Needed to Support All Findings and Identify the Motivations Behind Casual Riders:**\n",
    "   - To validate these speculations and findings, it's essential to conduct further in-depth analysis and potentially gather user feedback. This could include surveys or interviews with users to gain insights into their motivations and preferences when using the bike-sharing service. Additional data sources, such as weather data, local events, or promotions, could also be incorporated into the analysis to provide a more comprehensive understanding of user behavior."
   ]
  },
  {
   "cell_type": "markdown",
   "metadata": {
    "heading_collapsed": true
   },
   "source": [
    "## Key Findings Presentation with Stakeholders\n",
    "\n",
    "The presentation outlining the key findings from the analysis, which I share with stakeholders, is accessible at the following [link](https://youtu.be/8H5RSOqf2ew)."
   ]
  },
  {
   "cell_type": "markdown",
   "metadata": {},
   "source": [
    "## Recommendations"
   ]
  },
  {
   "cell_type": "markdown",
   "metadata": {},
   "source": [
    "**A. Data-Driven Engagement Strategies**\n",
    "\n",
    "In order to foster deeper connections with users and continuously enhance their experience, it's essential to leverage data-driven engagement strategies. This involves:\n",
    "\n",
    "- **Further Data Collection:** Beyond the existing dataset, consider implementing surveys, user feedback mechanisms, and integrating data from various sources, including app usage patterns, membership profiles, and bike usage statistics. This holistic approach will provide a comprehensive understanding of user behavior, preferences, and potential conversion points.\n",
    "\n",
    "- **Customer Surveys and Interviews:** Conduct surveys and interviews with both casual and member riders. These insights will offer a closer look into their motivations, needs, and any potential barriers that may hinder casual riders from converting into annual members. Understanding these intricacies will enable the tailoring of engagement strategies more effectively.\n",
    "\n",
    "**B. Targeted Conversion Campaign**\n",
    "\n",
    "To transform casual riders into loyal annual members, a well-crafted and targeted conversion campaign is imperative. This campaign could encompass:\n",
    "\n",
    "- **Seasonal Promotion:** Capitalize on seasonal variations in ridership by launching marketing campaigns during the summer months. Consider offering seasonal discounts or exclusive benefits during this period. This approach aligns with the observed trend of increased recreational use during warm months.\n",
    "\n",
    "- **Weekend Getaway:** Create an enticing weekend getaway experience for casual riders. Collaborate with local businesses to offer curated routes or exclusive deals that encourage exploration of new areas through longer weekend rides. This approach leverages the preference for weekend rides observed among users.\n",
    "\n",
    "**C. Enhanced User Experience**\n",
    "\n",
    "Improving the overall user experience is pivotal for both casual riders and annual members. Enhancements in this regard may include:\n",
    "\n",
    "- **Commuter Benefits:** Establish partnerships with employers to offer attractive commuter benefits to their employees. This could involve providing discounted annual memberships as part of an employer's benefits package. Such partnerships would target members who use the service for practical commuting purposes and help boost membership conversion rates.\n",
    "\n",
    "- **Suburban Expansion:** Collaborate with local transportation authorities to facilitate seamless integration with other modes of transportation in suburban areas. Expanding the service footprint into suburbs and ensuring easy transfers between different transportation modes can attract a wider user base, including those residing in suburban neighborhoods.\n",
    "\n",
    "These comprehensive recommendations encompass both data-driven strategies and practical initiatives aimed at enhancing user engagement and converting casual riders into loyal annual members. By implementing these recommendations, Cyclistic can further optimize its service, meet user needs, and potentially boost its membership conversion rates."
   ]
  }
 ],
 "metadata": {
  "hide_input": false,
  "interpreter": {
   "hash": "16b06b994cbcb344dc2cd7cdf63d604b72ab02fa9dcf9407c7bd609b26bf2ef1"
  },
  "kernelspec": {
   "display_name": "Python 3",
   "language": "python",
   "name": "python3"
  },
  "language_info": {
   "codemirror_mode": {
    "name": "ipython",
    "version": 3
   },
   "file_extension": ".py",
   "mimetype": "text/x-python",
   "name": "python",
   "nbconvert_exporter": "python",
   "pygments_lexer": "ipython3",
   "version": "3.8.12"
  },
  "toc": {
   "base_numbering": 1,
   "nav_menu": {},
   "number_sections": true,
   "sideBar": true,
   "skip_h1_title": false,
   "title_cell": "Table of Contents",
   "title_sidebar": "Contents",
   "toc_cell": false,
   "toc_position": {},
   "toc_section_display": true,
   "toc_window_display": false
  },
  "varInspector": {
   "cols": {
    "lenName": "30",
    "lenType": 16,
    "lenVar": "20"
   },
   "kernels_config": {
    "python": {
     "delete_cmd_postfix": "",
     "delete_cmd_prefix": "del ",
     "library": "var_list.py",
     "varRefreshCmd": "print(var_dic_list())"
    },
    "r": {
     "delete_cmd_postfix": ") ",
     "delete_cmd_prefix": "rm(",
     "library": "var_list.r",
     "varRefreshCmd": "cat(var_dic_list()) "
    }
   },
   "position": {
    "height": "255px",
    "left": "1521px",
    "right": "20px",
    "top": "234px",
    "width": "383px"
   },
   "types_to_exclude": [
    "module",
    "function",
    "builtin_function_or_method",
    "instance",
    "_Feature"
   ],
   "window_display": true
  }
 },
 "nbformat": 4,
 "nbformat_minor": 2
}
